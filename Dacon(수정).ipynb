{
 "cells": [
  {
   "cell_type": "code",
   "execution_count": 103,
   "id": "6a6954fc",
   "metadata": {},
   "outputs": [],
   "source": [
    "import pandas as pd\n",
    "import seaborn as sns\n",
    "import matplotlib as plt\n",
    "df_train = pd.read_csv('datacon/train.csv')\n",
    "df_test = pd.read_csv('datacon/test.csv')\n",
    "df_sample = pd.read_csv('datacon/sample_submission.csv')"
   ]
  },
  {
   "cell_type": "code",
   "execution_count": 104,
   "id": "45cd1e26",
   "metadata": {},
   "outputs": [],
   "source": [
    "Y = df_train.iloc[:,-1]\n",
    "df_train = df_train.iloc[:,:-1]"
   ]
  },
  {
   "cell_type": "code",
   "execution_count": 105,
   "id": "836eab45",
   "metadata": {
    "scrolled": true
   },
   "outputs": [
    {
     "data": {
      "text/html": [
       "<div>\n",
       "<style scoped>\n",
       "    .dataframe tbody tr th:only-of-type {\n",
       "        vertical-align: middle;\n",
       "    }\n",
       "\n",
       "    .dataframe tbody tr th {\n",
       "        vertical-align: top;\n",
       "    }\n",
       "\n",
       "    .dataframe thead th {\n",
       "        text-align: right;\n",
       "    }\n",
       "</style>\n",
       "<table border=\"1\" class=\"dataframe\">\n",
       "  <thead>\n",
       "    <tr style=\"text-align: right;\">\n",
       "      <th></th>\n",
       "      <th>나이</th>\n",
       "      <th>키(cm)</th>\n",
       "      <th>몸무게(kg)</th>\n",
       "      <th>BMI</th>\n",
       "      <th>시력</th>\n",
       "      <th>충치</th>\n",
       "      <th>공복 혈당</th>\n",
       "      <th>혈압</th>\n",
       "      <th>중성 지방</th>\n",
       "      <th>혈청 크레아티닌</th>\n",
       "      <th>콜레스테롤</th>\n",
       "      <th>고밀도지단백</th>\n",
       "      <th>저밀도지단백</th>\n",
       "      <th>헤모글로빈</th>\n",
       "      <th>요 단백</th>\n",
       "      <th>간 효소율</th>\n",
       "    </tr>\n",
       "  </thead>\n",
       "  <tbody>\n",
       "    <tr>\n",
       "      <th>count</th>\n",
       "      <td>7000.000000</td>\n",
       "      <td>7000.000000</td>\n",
       "      <td>7000.000000</td>\n",
       "      <td>7000.000000</td>\n",
       "      <td>7000.000000</td>\n",
       "      <td>7000.000000</td>\n",
       "      <td>7000.000000</td>\n",
       "      <td>7000.000000</td>\n",
       "      <td>7000.000000</td>\n",
       "      <td>7000.000000</td>\n",
       "      <td>7000.000000</td>\n",
       "      <td>7000.000000</td>\n",
       "      <td>7000.000000</td>\n",
       "      <td>7000.000000</td>\n",
       "      <td>7000.000000</td>\n",
       "      <td>7000.000000</td>\n",
       "    </tr>\n",
       "    <tr>\n",
       "      <th>mean</th>\n",
       "      <td>43.973571</td>\n",
       "      <td>164.781429</td>\n",
       "      <td>65.932857</td>\n",
       "      <td>24.144423</td>\n",
       "      <td>1.011650</td>\n",
       "      <td>0.227429</td>\n",
       "      <td>99.331857</td>\n",
       "      <td>45.532857</td>\n",
       "      <td>127.144714</td>\n",
       "      <td>0.884900</td>\n",
       "      <td>197.276571</td>\n",
       "      <td>57.355429</td>\n",
       "      <td>115.346857</td>\n",
       "      <td>14.631914</td>\n",
       "      <td>1.083857</td>\n",
       "      <td>1.144696</td>\n",
       "    </tr>\n",
       "    <tr>\n",
       "      <th>std</th>\n",
       "      <td>12.063793</td>\n",
       "      <td>9.170213</td>\n",
       "      <td>12.978702</td>\n",
       "      <td>3.501945</td>\n",
       "      <td>0.427828</td>\n",
       "      <td>0.419202</td>\n",
       "      <td>21.129670</td>\n",
       "      <td>8.820611</td>\n",
       "      <td>73.918492</td>\n",
       "      <td>0.241523</td>\n",
       "      <td>36.306494</td>\n",
       "      <td>14.506945</td>\n",
       "      <td>41.788153</td>\n",
       "      <td>1.540907</td>\n",
       "      <td>0.392051</td>\n",
       "      <td>0.432735</td>\n",
       "    </tr>\n",
       "    <tr>\n",
       "      <th>min</th>\n",
       "      <td>20.000000</td>\n",
       "      <td>135.000000</td>\n",
       "      <td>30.000000</td>\n",
       "      <td>14.270000</td>\n",
       "      <td>0.100000</td>\n",
       "      <td>0.000000</td>\n",
       "      <td>57.000000</td>\n",
       "      <td>14.000000</td>\n",
       "      <td>21.000000</td>\n",
       "      <td>0.100000</td>\n",
       "      <td>86.000000</td>\n",
       "      <td>18.000000</td>\n",
       "      <td>1.000000</td>\n",
       "      <td>4.900000</td>\n",
       "      <td>1.000000</td>\n",
       "      <td>0.140000</td>\n",
       "    </tr>\n",
       "    <tr>\n",
       "      <th>25%</th>\n",
       "      <td>35.000000</td>\n",
       "      <td>160.000000</td>\n",
       "      <td>55.000000</td>\n",
       "      <td>21.600000</td>\n",
       "      <td>0.800000</td>\n",
       "      <td>0.000000</td>\n",
       "      <td>89.000000</td>\n",
       "      <td>40.000000</td>\n",
       "      <td>74.000000</td>\n",
       "      <td>0.800000</td>\n",
       "      <td>173.000000</td>\n",
       "      <td>47.000000</td>\n",
       "      <td>92.000000</td>\n",
       "      <td>13.600000</td>\n",
       "      <td>1.000000</td>\n",
       "      <td>0.840000</td>\n",
       "    </tr>\n",
       "    <tr>\n",
       "      <th>50%</th>\n",
       "      <td>40.000000</td>\n",
       "      <td>165.000000</td>\n",
       "      <td>65.000000</td>\n",
       "      <td>23.880000</td>\n",
       "      <td>1.000000</td>\n",
       "      <td>0.000000</td>\n",
       "      <td>96.000000</td>\n",
       "      <td>45.000000</td>\n",
       "      <td>107.000000</td>\n",
       "      <td>0.900000</td>\n",
       "      <td>195.000000</td>\n",
       "      <td>55.000000</td>\n",
       "      <td>113.000000</td>\n",
       "      <td>14.800000</td>\n",
       "      <td>1.000000</td>\n",
       "      <td>1.100000</td>\n",
       "    </tr>\n",
       "    <tr>\n",
       "      <th>75%</th>\n",
       "      <td>50.000000</td>\n",
       "      <td>170.000000</td>\n",
       "      <td>75.000000</td>\n",
       "      <td>26.120000</td>\n",
       "      <td>1.200000</td>\n",
       "      <td>0.000000</td>\n",
       "      <td>104.000000</td>\n",
       "      <td>50.000000</td>\n",
       "      <td>161.000000</td>\n",
       "      <td>1.000000</td>\n",
       "      <td>219.000000</td>\n",
       "      <td>66.000000</td>\n",
       "      <td>136.000000</td>\n",
       "      <td>15.700000</td>\n",
       "      <td>1.000000</td>\n",
       "      <td>1.380000</td>\n",
       "    </tr>\n",
       "    <tr>\n",
       "      <th>max</th>\n",
       "      <td>85.000000</td>\n",
       "      <td>190.000000</td>\n",
       "      <td>130.000000</td>\n",
       "      <td>42.450000</td>\n",
       "      <td>9.900000</td>\n",
       "      <td>1.000000</td>\n",
       "      <td>386.000000</td>\n",
       "      <td>91.000000</td>\n",
       "      <td>999.000000</td>\n",
       "      <td>10.000000</td>\n",
       "      <td>395.000000</td>\n",
       "      <td>157.000000</td>\n",
       "      <td>1340.000000</td>\n",
       "      <td>20.900000</td>\n",
       "      <td>5.000000</td>\n",
       "      <td>5.670000</td>\n",
       "    </tr>\n",
       "  </tbody>\n",
       "</table>\n",
       "</div>"
      ],
      "text/plain": [
       "                나이        키(cm)      몸무게(kg)          BMI           시력  \\\n",
       "count  7000.000000  7000.000000  7000.000000  7000.000000  7000.000000   \n",
       "mean     43.973571   164.781429    65.932857    24.144423     1.011650   \n",
       "std      12.063793     9.170213    12.978702     3.501945     0.427828   \n",
       "min      20.000000   135.000000    30.000000    14.270000     0.100000   \n",
       "25%      35.000000   160.000000    55.000000    21.600000     0.800000   \n",
       "50%      40.000000   165.000000    65.000000    23.880000     1.000000   \n",
       "75%      50.000000   170.000000    75.000000    26.120000     1.200000   \n",
       "max      85.000000   190.000000   130.000000    42.450000     9.900000   \n",
       "\n",
       "                충치        공복 혈당           혈압        중성 지방     혈청 크레아티닌  \\\n",
       "count  7000.000000  7000.000000  7000.000000  7000.000000  7000.000000   \n",
       "mean      0.227429    99.331857    45.532857   127.144714     0.884900   \n",
       "std       0.419202    21.129670     8.820611    73.918492     0.241523   \n",
       "min       0.000000    57.000000    14.000000    21.000000     0.100000   \n",
       "25%       0.000000    89.000000    40.000000    74.000000     0.800000   \n",
       "50%       0.000000    96.000000    45.000000   107.000000     0.900000   \n",
       "75%       0.000000   104.000000    50.000000   161.000000     1.000000   \n",
       "max       1.000000   386.000000    91.000000   999.000000    10.000000   \n",
       "\n",
       "             콜레스테롤       고밀도지단백       저밀도지단백        헤모글로빈         요 단백  \\\n",
       "count  7000.000000  7000.000000  7000.000000  7000.000000  7000.000000   \n",
       "mean    197.276571    57.355429   115.346857    14.631914     1.083857   \n",
       "std      36.306494    14.506945    41.788153     1.540907     0.392051   \n",
       "min      86.000000    18.000000     1.000000     4.900000     1.000000   \n",
       "25%     173.000000    47.000000    92.000000    13.600000     1.000000   \n",
       "50%     195.000000    55.000000   113.000000    14.800000     1.000000   \n",
       "75%     219.000000    66.000000   136.000000    15.700000     1.000000   \n",
       "max     395.000000   157.000000  1340.000000    20.900000     5.000000   \n",
       "\n",
       "             간 효소율  \n",
       "count  7000.000000  \n",
       "mean      1.144696  \n",
       "std       0.432735  \n",
       "min       0.140000  \n",
       "25%       0.840000  \n",
       "50%       1.100000  \n",
       "75%       1.380000  \n",
       "max       5.670000  "
      ]
     },
     "execution_count": 105,
     "metadata": {},
     "output_type": "execute_result"
    }
   ],
   "source": [
    "df_train.describe()"
   ]
  },
  {
   "cell_type": "code",
   "execution_count": 106,
   "id": "34f3d42b",
   "metadata": {},
   "outputs": [
    {
     "data": {
      "text/plain": [
       "Index(['ID', '나이', '키(cm)', '몸무게(kg)', 'BMI', '시력', '충치', '공복 혈당', '혈압',\n",
       "       '중성 지방', '혈청 크레아티닌', '콜레스테롤', '고밀도지단백', '저밀도지단백', '헤모글로빈', '요 단백',\n",
       "       '간 효소율'],\n",
       "      dtype='object')"
      ]
     },
     "execution_count": 106,
     "metadata": {},
     "output_type": "execute_result"
    }
   ],
   "source": [
    "df_train.columns"
   ]
  },
  {
   "cell_type": "code",
   "execution_count": 107,
   "id": "35a4ad07",
   "metadata": {},
   "outputs": [],
   "source": [
    "int_t =['나이', '키(cm)', '몸무게(kg)', 'BMI', '시력', '충치', '공복 혈당', '중성 지방',\n",
    "       '혈청 크레아티닌', '고밀도지단백', '저밀도지단백', '헤모글로빈', '간 효소율']\n",
    "#충치와 라벨은 0/1 값\n",
    "#요단백은 이상치가 없음 "
   ]
  },
  {
   "cell_type": "code",
   "execution_count": 108,
   "id": "28ee2dfd",
   "metadata": {},
   "outputs": [
    {
     "name": "stdout",
     "output_type": "stream",
     "text": [
      "(7000, 17) 나이\n",
      "(7000, 17) 키(cm)\n",
      "(7000, 17) 몸무게(kg)\n",
      "(7000, 17) BMI\n",
      "(7000, 17) 시력\n",
      "(7000, 17) 충치\n",
      "(7000, 17) 공복 혈당\n",
      "(7000, 17) 중성 지방\n",
      "(7000, 17) 혈청 크레아티닌\n",
      "(7000, 17) 고밀도지단백\n",
      "(7000, 17) 저밀도지단백\n",
      "(7000, 17) 헤모글로빈\n",
      "(7000, 17) 간 효소율\n",
      "(7000, 17)\n"
     ]
    }
   ],
   "source": [
    "\n",
    "for col in int_t:\n",
    "#     min_col = df_train[col].quantile(0.25) - (df_train[col].quantile(0.75)-df_train[col].quantile(0.25))*1.5\n",
    "#     max_col = df_train[col].quantile(0.75) + (df_train[col].quantile(0.75)-df_train[col].quantile(0.25))*1.5\n",
    "# 중위값으로 이상치 대체\n",
    "    min_col = df_train[col].mean()-(df_train[col].std()*3)\n",
    "    max_col = df_train[col].mean()+(df_train[col].std()*3)\n",
    "#평균에서 표준편차 *3 으로 이상치 제거\n",
    "    df_train.loc[df_train[col] < min_col] = min_col\n",
    "    df_train.loc[df_train[col] > max_col] = max_col\n",
    "    print(df_train.shape, col)\n",
    "#     print(df_train.label.value_counts())\n",
    "print(df_train.shape)\n",
    "#이상치 제거시 26프로정도데이터가 소실되어\n",
    "#중앙값으로 대체"
   ]
  },
  {
   "cell_type": "code",
   "execution_count": 109,
   "id": "10d9d9b7",
   "metadata": {
    "scrolled": true
   },
   "outputs": [
    {
     "data": {
      "text/html": [
       "<div>\n",
       "<style scoped>\n",
       "    .dataframe tbody tr th:only-of-type {\n",
       "        vertical-align: middle;\n",
       "    }\n",
       "\n",
       "    .dataframe tbody tr th {\n",
       "        vertical-align: top;\n",
       "    }\n",
       "\n",
       "    .dataframe thead th {\n",
       "        text-align: right;\n",
       "    }\n",
       "</style>\n",
       "<table border=\"1\" class=\"dataframe\">\n",
       "  <thead>\n",
       "    <tr style=\"text-align: right;\">\n",
       "      <th></th>\n",
       "      <th>키(cm)</th>\n",
       "      <th>몸무게(kg)</th>\n",
       "      <th>BMI</th>\n",
       "      <th>시력</th>\n",
       "      <th>충치</th>\n",
       "      <th>공복 혈당</th>\n",
       "      <th>혈압</th>\n",
       "      <th>중성 지방</th>\n",
       "      <th>혈청 크레아티닌</th>\n",
       "      <th>콜레스테롤</th>\n",
       "      <th>저밀도지단백</th>\n",
       "      <th>헤모글로빈</th>\n",
       "      <th>요 단백</th>\n",
       "    </tr>\n",
       "  </thead>\n",
       "  <tbody>\n",
       "    <tr>\n",
       "      <th>count</th>\n",
       "      <td>7000.000000</td>\n",
       "      <td>7000.000000</td>\n",
       "      <td>7000.000000</td>\n",
       "      <td>7000.000000</td>\n",
       "      <td>7000.000000</td>\n",
       "      <td>7000.000000</td>\n",
       "      <td>7000.000000</td>\n",
       "      <td>7000.000000</td>\n",
       "      <td>7000.000000</td>\n",
       "      <td>7000.000000</td>\n",
       "      <td>7000.000000</td>\n",
       "      <td>7000.000000</td>\n",
       "      <td>7000.000000</td>\n",
       "    </tr>\n",
       "    <tr>\n",
       "      <th>mean</th>\n",
       "      <td>160.134428</td>\n",
       "      <td>64.953000</td>\n",
       "      <td>25.085630</td>\n",
       "      <td>2.966028</td>\n",
       "      <td>2.212000</td>\n",
       "      <td>95.359000</td>\n",
       "      <td>45.659428</td>\n",
       "      <td>118.852428</td>\n",
       "      <td>2.842486</td>\n",
       "      <td>190.989143</td>\n",
       "      <td>112.423857</td>\n",
       "      <td>16.016828</td>\n",
       "      <td>3.026857</td>\n",
       "    </tr>\n",
       "    <tr>\n",
       "      <th>std</th>\n",
       "      <td>24.127760</td>\n",
       "      <td>12.747116</td>\n",
       "      <td>6.219492</td>\n",
       "      <td>9.689776</td>\n",
       "      <td>9.842001</td>\n",
       "      <td>16.218018</td>\n",
       "      <td>8.733360</td>\n",
       "      <td>65.676207</td>\n",
       "      <td>9.709077</td>\n",
       "      <td>44.916987</td>\n",
       "      <td>34.584737</td>\n",
       "      <td>7.214227</td>\n",
       "      <td>9.675515</td>\n",
       "    </tr>\n",
       "    <tr>\n",
       "      <th>min</th>\n",
       "      <td>32.897491</td>\n",
       "      <td>30.000000</td>\n",
       "      <td>14.270000</td>\n",
       "      <td>0.100000</td>\n",
       "      <td>0.000000</td>\n",
       "      <td>32.897491</td>\n",
       "      <td>14.000000</td>\n",
       "      <td>21.000000</td>\n",
       "      <td>0.100000</td>\n",
       "      <td>32.897491</td>\n",
       "      <td>12.000000</td>\n",
       "      <td>4.900000</td>\n",
       "      <td>1.000000</td>\n",
       "    </tr>\n",
       "    <tr>\n",
       "      <th>25%</th>\n",
       "      <td>155.000000</td>\n",
       "      <td>55.000000</td>\n",
       "      <td>21.910000</td>\n",
       "      <td>0.800000</td>\n",
       "      <td>0.000000</td>\n",
       "      <td>88.000000</td>\n",
       "      <td>40.000000</td>\n",
       "      <td>69.000000</td>\n",
       "      <td>0.800000</td>\n",
       "      <td>170.000000</td>\n",
       "      <td>90.000000</td>\n",
       "      <td>13.600000</td>\n",
       "      <td>1.000000</td>\n",
       "    </tr>\n",
       "    <tr>\n",
       "      <th>50%</th>\n",
       "      <td>165.000000</td>\n",
       "      <td>65.000000</td>\n",
       "      <td>23.880000</td>\n",
       "      <td>1.000000</td>\n",
       "      <td>0.000000</td>\n",
       "      <td>95.000000</td>\n",
       "      <td>45.000000</td>\n",
       "      <td>102.000000</td>\n",
       "      <td>0.900000</td>\n",
       "      <td>193.000000</td>\n",
       "      <td>111.000000</td>\n",
       "      <td>14.800000</td>\n",
       "      <td>1.000000</td>\n",
       "    </tr>\n",
       "    <tr>\n",
       "      <th>75%</th>\n",
       "      <td>170.000000</td>\n",
       "      <td>75.000000</td>\n",
       "      <td>26.160000</td>\n",
       "      <td>1.200000</td>\n",
       "      <td>1.000000</td>\n",
       "      <td>103.000000</td>\n",
       "      <td>51.000000</td>\n",
       "      <td>153.000000</td>\n",
       "      <td>1.000000</td>\n",
       "      <td>217.000000</td>\n",
       "      <td>135.000000</td>\n",
       "      <td>15.800000</td>\n",
       "      <td>1.000000</td>\n",
       "    </tr>\n",
       "    <tr>\n",
       "      <th>max</th>\n",
       "      <td>190.000000</td>\n",
       "      <td>105.000000</td>\n",
       "      <td>52.294653</td>\n",
       "      <td>52.294653</td>\n",
       "      <td>52.294653</td>\n",
       "      <td>164.000000</td>\n",
       "      <td>91.000000</td>\n",
       "      <td>345.000000</td>\n",
       "      <td>52.294653</td>\n",
       "      <td>325.000000</td>\n",
       "      <td>233.000000</td>\n",
       "      <td>52.294653</td>\n",
       "      <td>52.294653</td>\n",
       "    </tr>\n",
       "  </tbody>\n",
       "</table>\n",
       "</div>"
      ],
      "text/plain": [
       "             키(cm)      몸무게(kg)          BMI           시력           충치  \\\n",
       "count  7000.000000  7000.000000  7000.000000  7000.000000  7000.000000   \n",
       "mean    160.134428    64.953000    25.085630     2.966028     2.212000   \n",
       "std      24.127760    12.747116     6.219492     9.689776     9.842001   \n",
       "min      32.897491    30.000000    14.270000     0.100000     0.000000   \n",
       "25%     155.000000    55.000000    21.910000     0.800000     0.000000   \n",
       "50%     165.000000    65.000000    23.880000     1.000000     0.000000   \n",
       "75%     170.000000    75.000000    26.160000     1.200000     1.000000   \n",
       "max     190.000000   105.000000    52.294653    52.294653    52.294653   \n",
       "\n",
       "             공복 혈당           혈압        중성 지방     혈청 크레아티닌        콜레스테롤  \\\n",
       "count  7000.000000  7000.000000  7000.000000  7000.000000  7000.000000   \n",
       "mean     95.359000    45.659428   118.852428     2.842486   190.989143   \n",
       "std      16.218018     8.733360    65.676207     9.709077    44.916987   \n",
       "min      32.897491    14.000000    21.000000     0.100000    32.897491   \n",
       "25%      88.000000    40.000000    69.000000     0.800000   170.000000   \n",
       "50%      95.000000    45.000000   102.000000     0.900000   193.000000   \n",
       "75%     103.000000    51.000000   153.000000     1.000000   217.000000   \n",
       "max     164.000000    91.000000   345.000000    52.294653   325.000000   \n",
       "\n",
       "            저밀도지단백        헤모글로빈         요 단백  \n",
       "count  7000.000000  7000.000000  7000.000000  \n",
       "mean    112.423857    16.016828     3.026857  \n",
       "std      34.584737     7.214227     9.675515  \n",
       "min      12.000000     4.900000     1.000000  \n",
       "25%      90.000000    13.600000     1.000000  \n",
       "50%     111.000000    14.800000     1.000000  \n",
       "75%     135.000000    15.800000     1.000000  \n",
       "max     233.000000    52.294653    52.294653  "
      ]
     },
     "execution_count": 109,
     "metadata": {},
     "output_type": "execute_result"
    }
   ],
   "source": [
    "df_train.drop(columns = ['나이','고밀도지단백','간 효소율'], inplace = True)\n",
    "df_test.drop(columns = ['나이','고밀도지단백','간 효소율'], inplace = True)\n",
    "df_train.describe()"
   ]
  },
  {
   "cell_type": "code",
   "execution_count": 88,
   "id": "8fd682b7",
   "metadata": {},
   "outputs": [
    {
     "data": {
      "text/plain": [
       "array(['경계', '정상', '위험'], dtype=object)"
      ]
     },
     "execution_count": 88,
     "metadata": {},
     "output_type": "execute_result"
    }
   ],
   "source": [
    "def col_l(x):\n",
    "    if x >=240 :\n",
    "        return '위험'\n",
    "    elif x < 240 and x >200:\n",
    "        return '경계'\n",
    "    elif x <= 200:\n",
    "        return '정상'\n",
    "\n",
    "df_train['콜레스테롤'] = df_train['콜레스테롤'].apply(col_l)\n",
    "df_test['콜레스테롤'] = df_test['콜레스테롤'].apply(col_l)\n",
    "\n",
    "df_train['콜레스테롤'].unique()\n",
    "# df_train.drop(columns = [ '요 단백','혈압','콜레스테롤'], inplace = True)\n",
    "# df_test.drop(columns = [ '요 단백','혈압','콜레스테롤'], inplace = True)"
   ]
  },
  {
   "cell_type": "code",
   "execution_count": 49,
   "id": "5d6942a8",
   "metadata": {
    "scrolled": true
   },
   "outputs": [],
   "source": [
    "# def col_l(x):\n",
    "#     if x >=240 :\n",
    "#         return '위험'\n",
    "#     elif x < 240 and x >200:\n",
    "#         return '경계'\n",
    "#     elif x <= 200:\n",
    "#         return '정상'\n",
    "\n",
    "# df_train['콜레스테롤'] = df_train['콜레스테롤'].apply(col_l)\n",
    "# df_test['콜레스테롤'] = df_test['콜레스테롤'].apply(col_l)\n",
    "\n",
    "# df_train['콜레스테롤'].unique()\n",
    "# # df_train.drop(columns = [ '요 단백','혈압','콜레스테롤'], inplace = True)\n",
    "# # df_test.drop(columns = [ '요 단백','혈압','콜레스테롤'], inplace = True)"
   ]
  },
  {
   "cell_type": "code",
   "execution_count": 50,
   "id": "e39699df",
   "metadata": {},
   "outputs": [
    {
     "data": {
      "text/plain": [
       "array(['정상', '경계', '위험'], dtype=object)"
      ]
     },
     "execution_count": 50,
     "metadata": {},
     "output_type": "execute_result"
    }
   ],
   "source": [
    "def LDL(x):\n",
    "    if x >=160 :\n",
    "        return '위험'\n",
    "    elif x < 160 and x >130:\n",
    "        return '경계'\n",
    "    elif x <= 130:\n",
    "        return '정상'\n",
    "\n",
    "df_train['저밀도지단백'] = df_train['저밀도지단백'].apply(LDL)\n",
    "df_test['저밀도지단백'] = df_test['저밀도지단백'].apply(LDL)\n",
    "\n",
    "df_train['저밀도지단백'].unique()"
   ]
  },
  {
   "cell_type": "code",
   "execution_count": 51,
   "id": "a9d91feb",
   "metadata": {
    "collapsed": true
   },
   "outputs": [
    {
     "ename": "KeyError",
     "evalue": "'고밀도지단백'",
     "output_type": "error",
     "traceback": [
      "\u001b[1;31m---------------------------------------------------------------------------\u001b[0m",
      "\u001b[1;31mKeyError\u001b[0m                                  Traceback (most recent call last)",
      "File \u001b[1;32mC:\\ProgramData\\anaconda3\\Lib\\site-packages\\pandas\\core\\indexes\\base.py:3802\u001b[0m, in \u001b[0;36mIndex.get_loc\u001b[1;34m(self, key, method, tolerance)\u001b[0m\n\u001b[0;32m   3801\u001b[0m \u001b[38;5;28;01mtry\u001b[39;00m:\n\u001b[1;32m-> 3802\u001b[0m     \u001b[38;5;28;01mreturn\u001b[39;00m \u001b[38;5;28mself\u001b[39m\u001b[38;5;241m.\u001b[39m_engine\u001b[38;5;241m.\u001b[39mget_loc(casted_key)\n\u001b[0;32m   3803\u001b[0m \u001b[38;5;28;01mexcept\u001b[39;00m \u001b[38;5;167;01mKeyError\u001b[39;00m \u001b[38;5;28;01mas\u001b[39;00m err:\n",
      "File \u001b[1;32mC:\\ProgramData\\anaconda3\\Lib\\site-packages\\pandas\\_libs\\index.pyx:138\u001b[0m, in \u001b[0;36mpandas._libs.index.IndexEngine.get_loc\u001b[1;34m()\u001b[0m\n",
      "File \u001b[1;32mC:\\ProgramData\\anaconda3\\Lib\\site-packages\\pandas\\_libs\\index.pyx:165\u001b[0m, in \u001b[0;36mpandas._libs.index.IndexEngine.get_loc\u001b[1;34m()\u001b[0m\n",
      "File \u001b[1;32mpandas\\_libs\\hashtable_class_helper.pxi:5745\u001b[0m, in \u001b[0;36mpandas._libs.hashtable.PyObjectHashTable.get_item\u001b[1;34m()\u001b[0m\n",
      "File \u001b[1;32mpandas\\_libs\\hashtable_class_helper.pxi:5753\u001b[0m, in \u001b[0;36mpandas._libs.hashtable.PyObjectHashTable.get_item\u001b[1;34m()\u001b[0m\n",
      "\u001b[1;31mKeyError\u001b[0m: '고밀도지단백'",
      "\nThe above exception was the direct cause of the following exception:\n",
      "\u001b[1;31mKeyError\u001b[0m                                  Traceback (most recent call last)",
      "Cell \u001b[1;32mIn[51], line 9\u001b[0m\n\u001b[0;32m      6\u001b[0m     \u001b[38;5;28;01melif\u001b[39;00m x \u001b[38;5;241m<\u001b[39m\u001b[38;5;241m=\u001b[39m \u001b[38;5;241m40\u001b[39m:\n\u001b[0;32m      7\u001b[0m         \u001b[38;5;28;01mreturn\u001b[39;00m \u001b[38;5;124m'\u001b[39m\u001b[38;5;124m위험\u001b[39m\u001b[38;5;124m'\u001b[39m\n\u001b[1;32m----> 9\u001b[0m df_train[\u001b[38;5;124m'\u001b[39m\u001b[38;5;124m고밀도지단백\u001b[39m\u001b[38;5;124m'\u001b[39m] \u001b[38;5;241m=\u001b[39m df_train[\u001b[38;5;124m'\u001b[39m\u001b[38;5;124m고밀도지단백\u001b[39m\u001b[38;5;124m'\u001b[39m]\u001b[38;5;241m.\u001b[39mapply(HDL)\n\u001b[0;32m     10\u001b[0m df_test[\u001b[38;5;124m'\u001b[39m\u001b[38;5;124m고밀도지단백\u001b[39m\u001b[38;5;124m'\u001b[39m] \u001b[38;5;241m=\u001b[39m df_test[\u001b[38;5;124m'\u001b[39m\u001b[38;5;124m고밀도지단백\u001b[39m\u001b[38;5;124m'\u001b[39m]\u001b[38;5;241m.\u001b[39mapply(HDL)\n\u001b[0;32m     12\u001b[0m df_train[\u001b[38;5;124m'\u001b[39m\u001b[38;5;124m고밀도지단백\u001b[39m\u001b[38;5;124m'\u001b[39m]\u001b[38;5;241m.\u001b[39munique()\n",
      "File \u001b[1;32mC:\\ProgramData\\anaconda3\\Lib\\site-packages\\pandas\\core\\frame.py:3807\u001b[0m, in \u001b[0;36mDataFrame.__getitem__\u001b[1;34m(self, key)\u001b[0m\n\u001b[0;32m   3805\u001b[0m \u001b[38;5;28;01mif\u001b[39;00m \u001b[38;5;28mself\u001b[39m\u001b[38;5;241m.\u001b[39mcolumns\u001b[38;5;241m.\u001b[39mnlevels \u001b[38;5;241m>\u001b[39m \u001b[38;5;241m1\u001b[39m:\n\u001b[0;32m   3806\u001b[0m     \u001b[38;5;28;01mreturn\u001b[39;00m \u001b[38;5;28mself\u001b[39m\u001b[38;5;241m.\u001b[39m_getitem_multilevel(key)\n\u001b[1;32m-> 3807\u001b[0m indexer \u001b[38;5;241m=\u001b[39m \u001b[38;5;28mself\u001b[39m\u001b[38;5;241m.\u001b[39mcolumns\u001b[38;5;241m.\u001b[39mget_loc(key)\n\u001b[0;32m   3808\u001b[0m \u001b[38;5;28;01mif\u001b[39;00m is_integer(indexer):\n\u001b[0;32m   3809\u001b[0m     indexer \u001b[38;5;241m=\u001b[39m [indexer]\n",
      "File \u001b[1;32mC:\\ProgramData\\anaconda3\\Lib\\site-packages\\pandas\\core\\indexes\\base.py:3804\u001b[0m, in \u001b[0;36mIndex.get_loc\u001b[1;34m(self, key, method, tolerance)\u001b[0m\n\u001b[0;32m   3802\u001b[0m     \u001b[38;5;28;01mreturn\u001b[39;00m \u001b[38;5;28mself\u001b[39m\u001b[38;5;241m.\u001b[39m_engine\u001b[38;5;241m.\u001b[39mget_loc(casted_key)\n\u001b[0;32m   3803\u001b[0m \u001b[38;5;28;01mexcept\u001b[39;00m \u001b[38;5;167;01mKeyError\u001b[39;00m \u001b[38;5;28;01mas\u001b[39;00m err:\n\u001b[1;32m-> 3804\u001b[0m     \u001b[38;5;28;01mraise\u001b[39;00m \u001b[38;5;167;01mKeyError\u001b[39;00m(key) \u001b[38;5;28;01mfrom\u001b[39;00m \u001b[38;5;21;01merr\u001b[39;00m\n\u001b[0;32m   3805\u001b[0m \u001b[38;5;28;01mexcept\u001b[39;00m \u001b[38;5;167;01mTypeError\u001b[39;00m:\n\u001b[0;32m   3806\u001b[0m     \u001b[38;5;66;03m# If we have a listlike key, _check_indexing_error will raise\u001b[39;00m\n\u001b[0;32m   3807\u001b[0m     \u001b[38;5;66;03m#  InvalidIndexError. Otherwise we fall through and re-raise\u001b[39;00m\n\u001b[0;32m   3808\u001b[0m     \u001b[38;5;66;03m#  the TypeError.\u001b[39;00m\n\u001b[0;32m   3809\u001b[0m     \u001b[38;5;28mself\u001b[39m\u001b[38;5;241m.\u001b[39m_check_indexing_error(key)\n",
      "\u001b[1;31mKeyError\u001b[0m: '고밀도지단백'"
     ]
    }
   ],
   "source": [
    "def HDL(x):\n",
    "    if x >=60 :\n",
    "        return '정상'\n",
    "    elif x < 60 and x >40:\n",
    "        return '경계'\n",
    "    elif x <= 40:\n",
    "        return '위험'\n",
    "\n",
    "df_train['고밀도지단백'] = df_train['고밀도지단백'].apply(HDL)\n",
    "df_test['고밀도지단백'] = df_test['고밀도지단백'].apply(HDL)\n",
    "\n",
    "df_train['고밀도지단백'].unique()"
   ]
  },
  {
   "cell_type": "code",
   "execution_count": 52,
   "id": "c9e4c193",
   "metadata": {},
   "outputs": [
    {
     "data": {
      "text/plain": [
       "array(['정상', '경계', '위험'], dtype=object)"
      ]
     },
     "execution_count": 52,
     "metadata": {},
     "output_type": "execute_result"
    }
   ],
   "source": [
    "def m_p(x):\n",
    "    if x >=200 :\n",
    "        return '위험'\n",
    "    elif x < 200 and x >150:\n",
    "        return '경계'\n",
    "    elif x <= 150:\n",
    "        return '정상'\n",
    "\n",
    "df_train['중성 지방'] = df_train['중성 지방'].apply(m_p)\n",
    "df_test['중성 지방'] = df_test['중성 지방'].apply(m_p)\n",
    "df_train['중성 지방'].unique()"
   ]
  },
  {
   "cell_type": "code",
   "execution_count": 53,
   "id": "ce57126c",
   "metadata": {},
   "outputs": [
    {
     "data": {
      "text/plain": [
       "array(['표준', '저체중', '과체중', '비만'], dtype=object)"
      ]
     },
     "execution_count": 53,
     "metadata": {},
     "output_type": "execute_result"
    }
   ],
   "source": [
    "def bmi_l(x):\n",
    "    if x >=35 :\n",
    "        return '고도비만'\n",
    "    elif x < 35 and x >=30:\n",
    "        return '비만'\n",
    "    elif x < 30 and x >=25:\n",
    "        return '과체중'\n",
    "    elif x < 25 and x >=18.5:\n",
    "        return '표준'\n",
    "    elif x < 18.5:\n",
    "        return '저체중'\n",
    "\n",
    "df_train['BMI'] = df_train['BMI'].apply(bmi_l)\n",
    "df_test['BMI'] = df_test['BMI'].apply(bmi_l)\n",
    "\n",
    "df_train['BMI'].unique()"
   ]
  },
  {
   "cell_type": "code",
   "execution_count": 54,
   "id": "a7e76269",
   "metadata": {},
   "outputs": [],
   "source": [
    "# def hh(x):\n",
    "#     if x >=12.5 :\n",
    "#         return '1\n",
    "#     else:\n",
    "#         return 0\n",
    "# df_train['헤모글로빈'] = df_train['헤모글로빈'].apply(hh)\n",
    "# df_test['헤모글로빈'] = df_test['헤모글로빈'].apply(hh)\n",
    "\n",
    "# df_train['헤모글로빈'].unique()"
   ]
  },
  {
   "cell_type": "code",
   "execution_count": 55,
   "id": "f8c83963",
   "metadata": {
    "collapsed": true
   },
   "outputs": [
    {
     "name": "stderr",
     "output_type": "stream",
     "text": [
      "C:\\Users\\PC1\\AppData\\Local\\Temp\\ipykernel_15484\\4225991368.py:3: FutureWarning: Passing a set as an indexer is deprecated and will raise in a future version. Use a list instead.\n",
      "  df_train = pd.get_dummies(df_train,columns={'BMI','중성 지방','고밀도지단백','저밀도지단백'},drop_first = True)\n"
     ]
    },
    {
     "ename": "KeyError",
     "evalue": "\"['고밀도지단백'] not in index\"",
     "output_type": "error",
     "traceback": [
      "\u001b[1;31m---------------------------------------------------------------------------\u001b[0m",
      "\u001b[1;31mKeyError\u001b[0m                                  Traceback (most recent call last)",
      "Cell \u001b[1;32mIn[55], line 3\u001b[0m\n\u001b[0;32m      1\u001b[0m \u001b[38;5;66;03m#데이터 더미화\u001b[39;00m\n\u001b[1;32m----> 3\u001b[0m df_train \u001b[38;5;241m=\u001b[39m pd\u001b[38;5;241m.\u001b[39mget_dummies(df_train,columns\u001b[38;5;241m=\u001b[39m{\u001b[38;5;124m'\u001b[39m\u001b[38;5;124mBMI\u001b[39m\u001b[38;5;124m'\u001b[39m,\u001b[38;5;124m'\u001b[39m\u001b[38;5;124m중성 지방\u001b[39m\u001b[38;5;124m'\u001b[39m,\u001b[38;5;124m'\u001b[39m\u001b[38;5;124m고밀도지단백\u001b[39m\u001b[38;5;124m'\u001b[39m,\u001b[38;5;124m'\u001b[39m\u001b[38;5;124m저밀도지단백\u001b[39m\u001b[38;5;124m'\u001b[39m},drop_first \u001b[38;5;241m=\u001b[39m \u001b[38;5;28;01mTrue\u001b[39;00m)\n\u001b[0;32m      4\u001b[0m df_test \u001b[38;5;241m=\u001b[39m pd\u001b[38;5;241m.\u001b[39mget_dummies(df_test,columns\u001b[38;5;241m=\u001b[39m{ \u001b[38;5;124m'\u001b[39m\u001b[38;5;124mBMI\u001b[39m\u001b[38;5;124m'\u001b[39m,\u001b[38;5;124m'\u001b[39m\u001b[38;5;124m중성 지방\u001b[39m\u001b[38;5;124m'\u001b[39m,\u001b[38;5;124m'\u001b[39m\u001b[38;5;124m고밀도지단백\u001b[39m\u001b[38;5;124m'\u001b[39m,\u001b[38;5;124m'\u001b[39m\u001b[38;5;124m저밀도지단백\u001b[39m\u001b[38;5;124m'\u001b[39m},drop_first \u001b[38;5;241m=\u001b[39m \u001b[38;5;28;01mTrue\u001b[39;00m)\n",
      "File \u001b[1;32mC:\\ProgramData\\anaconda3\\Lib\\site-packages\\pandas\\core\\reshape\\encoding.py:146\u001b[0m, in \u001b[0;36mget_dummies\u001b[1;34m(data, prefix, prefix_sep, dummy_na, columns, sparse, drop_first, dtype)\u001b[0m\n\u001b[0;32m    144\u001b[0m     \u001b[38;5;28;01mraise\u001b[39;00m \u001b[38;5;167;01mTypeError\u001b[39;00m(\u001b[38;5;124m\"\u001b[39m\u001b[38;5;124mInput must be a list-like for parameter `columns`\u001b[39m\u001b[38;5;124m\"\u001b[39m)\n\u001b[0;32m    145\u001b[0m \u001b[38;5;28;01melse\u001b[39;00m:\n\u001b[1;32m--> 146\u001b[0m     data_to_encode \u001b[38;5;241m=\u001b[39m data[columns]\n\u001b[0;32m    148\u001b[0m \u001b[38;5;66;03m# validate prefixes and separator to avoid silently dropping cols\u001b[39;00m\n\u001b[0;32m    149\u001b[0m \u001b[38;5;28;01mdef\u001b[39;00m \u001b[38;5;21mcheck_len\u001b[39m(item, name):\n",
      "File \u001b[1;32mC:\\ProgramData\\anaconda3\\Lib\\site-packages\\pandas\\core\\frame.py:3813\u001b[0m, in \u001b[0;36mDataFrame.__getitem__\u001b[1;34m(self, key)\u001b[0m\n\u001b[0;32m   3811\u001b[0m     \u001b[38;5;28;01mif\u001b[39;00m is_iterator(key):\n\u001b[0;32m   3812\u001b[0m         key \u001b[38;5;241m=\u001b[39m \u001b[38;5;28mlist\u001b[39m(key)\n\u001b[1;32m-> 3813\u001b[0m     indexer \u001b[38;5;241m=\u001b[39m \u001b[38;5;28mself\u001b[39m\u001b[38;5;241m.\u001b[39mcolumns\u001b[38;5;241m.\u001b[39m_get_indexer_strict(key, \u001b[38;5;124m\"\u001b[39m\u001b[38;5;124mcolumns\u001b[39m\u001b[38;5;124m\"\u001b[39m)[\u001b[38;5;241m1\u001b[39m]\n\u001b[0;32m   3815\u001b[0m \u001b[38;5;66;03m# take() does not accept boolean indexers\u001b[39;00m\n\u001b[0;32m   3816\u001b[0m \u001b[38;5;28;01mif\u001b[39;00m \u001b[38;5;28mgetattr\u001b[39m(indexer, \u001b[38;5;124m\"\u001b[39m\u001b[38;5;124mdtype\u001b[39m\u001b[38;5;124m\"\u001b[39m, \u001b[38;5;28;01mNone\u001b[39;00m) \u001b[38;5;241m==\u001b[39m \u001b[38;5;28mbool\u001b[39m:\n",
      "File \u001b[1;32mC:\\ProgramData\\anaconda3\\Lib\\site-packages\\pandas\\core\\indexes\\base.py:6070\u001b[0m, in \u001b[0;36mIndex._get_indexer_strict\u001b[1;34m(self, key, axis_name)\u001b[0m\n\u001b[0;32m   6067\u001b[0m \u001b[38;5;28;01melse\u001b[39;00m:\n\u001b[0;32m   6068\u001b[0m     keyarr, indexer, new_indexer \u001b[38;5;241m=\u001b[39m \u001b[38;5;28mself\u001b[39m\u001b[38;5;241m.\u001b[39m_reindex_non_unique(keyarr)\n\u001b[1;32m-> 6070\u001b[0m \u001b[38;5;28mself\u001b[39m\u001b[38;5;241m.\u001b[39m_raise_if_missing(keyarr, indexer, axis_name)\n\u001b[0;32m   6072\u001b[0m keyarr \u001b[38;5;241m=\u001b[39m \u001b[38;5;28mself\u001b[39m\u001b[38;5;241m.\u001b[39mtake(indexer)\n\u001b[0;32m   6073\u001b[0m \u001b[38;5;28;01mif\u001b[39;00m \u001b[38;5;28misinstance\u001b[39m(key, Index):\n\u001b[0;32m   6074\u001b[0m     \u001b[38;5;66;03m# GH 42790 - Preserve name from an Index\u001b[39;00m\n",
      "File \u001b[1;32mC:\\ProgramData\\anaconda3\\Lib\\site-packages\\pandas\\core\\indexes\\base.py:6133\u001b[0m, in \u001b[0;36mIndex._raise_if_missing\u001b[1;34m(self, key, indexer, axis_name)\u001b[0m\n\u001b[0;32m   6130\u001b[0m     \u001b[38;5;28;01mraise\u001b[39;00m \u001b[38;5;167;01mKeyError\u001b[39;00m(\u001b[38;5;124mf\u001b[39m\u001b[38;5;124m\"\u001b[39m\u001b[38;5;124mNone of [\u001b[39m\u001b[38;5;132;01m{\u001b[39;00mkey\u001b[38;5;132;01m}\u001b[39;00m\u001b[38;5;124m] are in the [\u001b[39m\u001b[38;5;132;01m{\u001b[39;00maxis_name\u001b[38;5;132;01m}\u001b[39;00m\u001b[38;5;124m]\u001b[39m\u001b[38;5;124m\"\u001b[39m)\n\u001b[0;32m   6132\u001b[0m not_found \u001b[38;5;241m=\u001b[39m \u001b[38;5;28mlist\u001b[39m(ensure_index(key)[missing_mask\u001b[38;5;241m.\u001b[39mnonzero()[\u001b[38;5;241m0\u001b[39m]]\u001b[38;5;241m.\u001b[39munique())\n\u001b[1;32m-> 6133\u001b[0m \u001b[38;5;28;01mraise\u001b[39;00m \u001b[38;5;167;01mKeyError\u001b[39;00m(\u001b[38;5;124mf\u001b[39m\u001b[38;5;124m\"\u001b[39m\u001b[38;5;132;01m{\u001b[39;00mnot_found\u001b[38;5;132;01m}\u001b[39;00m\u001b[38;5;124m not in index\u001b[39m\u001b[38;5;124m\"\u001b[39m)\n",
      "\u001b[1;31mKeyError\u001b[0m: \"['고밀도지단백'] not in index\""
     ]
    }
   ],
   "source": [
    "#데이터 더미화\n",
    "\n",
    "df_train = pd.get_dummies(df_train,columns={'BMI','중성 지방','고밀도지단백','저밀도지단백'},drop_first = True)\n",
    "df_test = pd.get_dummies(df_test,columns={ 'BMI','중성 지방','고밀도지단백','저밀도지단백'},drop_first = True)\n"
   ]
  },
  {
   "cell_type": "code",
   "execution_count": 16,
   "id": "bc4e4ef5",
   "metadata": {},
   "outputs": [],
   "source": [
    "################################################################################################################################################################################"
   ]
  },
  {
   "cell_type": "code",
   "execution_count": 18,
   "id": "aba8b0b4",
   "metadata": {},
   "outputs": [],
   "source": [
    "# df_train.drop(columns = ['요 단백','콜레스테롤','혈압','저밀도지단백'], inplace = True)\n",
    "# df_test.drop(columns = ['요 단백','콜레스테롤','혈압','저밀도지단백'], inplace = True)\n"
   ]
  },
  {
   "cell_type": "code",
   "execution_count": 110,
   "id": "3a074bfc",
   "metadata": {},
   "outputs": [],
   "source": [
    "#데이터 쪼개기 \n",
    "# Y = df_train.label\n",
    "df_train.drop(columns = ['ID'], inplace = True)\n",
    "X_train = df_train.copy()\n",
    "# X_train_ID = df_train.ID\n",
    "df_test = df_test.iloc[:,1:]"
   ]
  },
  {
   "cell_type": "code",
   "execution_count": 111,
   "id": "8e78e9f2",
   "metadata": {
    "scrolled": true
   },
   "outputs": [
    {
     "data": {
      "text/plain": [
       "0    4429\n",
       "1    2571\n",
       "Name: label, dtype: int64"
      ]
     },
     "execution_count": 111,
     "metadata": {},
     "output_type": "execute_result"
    }
   ],
   "source": [
    "X_train\n",
    "Y.value_counts()"
   ]
  },
  {
   "cell_type": "code",
   "execution_count": 112,
   "id": "2e288d64",
   "metadata": {},
   "outputs": [
    {
     "data": {
      "text/plain": [
       "(7000, 13)"
      ]
     },
     "execution_count": 112,
     "metadata": {},
     "output_type": "execute_result"
    }
   ],
   "source": [
    "X_train.shape"
   ]
  },
  {
   "cell_type": "code",
   "execution_count": 113,
   "id": "08cf9d4d",
   "metadata": {
    "scrolled": true
   },
   "outputs": [
    {
     "name": "stdout",
     "output_type": "stream",
     "text": [
      "\n",
      ">>>train --------------------------------\n",
      "accuracy_score :  0.9853061224489796\n",
      "\n",
      ">>>test ---------------------------------\n",
      "accuracy_score :  0.7085714285714285\n"
     ]
    }
   ],
   "source": [
    "\n",
    "# 스케일러\n",
    "from sklearn.preprocessing import StandardScaler\n",
    "scaler =[ '키(cm)', '몸무게(kg)', '시력', \n",
    "         '충치', '공복 혈당', '혈청 크레아티닌','중성 지방', 'BMI','저밀도지단백',\n",
    "       '헤모글로빈', ]\n",
    "\n",
    "st = StandardScaler()\n",
    "st.fit(X_train[scaler])\n",
    "\n",
    "X_train[scaler] = st.transform(X_train[scaler])\n",
    "df_test[scaler] = st.transform(df_test[scaler])\n",
    "\n",
    "from sklearn.model_selection import train_test_split\n",
    "x_train, x_val, y_train, y_val = train_test_split(X_train, Y,test_size = 0.3, random_state = 42,stratify = Y)\n",
    "\n",
    "\n",
    "from sklearn.ensemble import RandomForestClassifier\n",
    "rf = RandomForestClassifier(random_state = 42)\n",
    "rf.fit(x_train, y_train)\n",
    "\n",
    "predict_train = rf.predict(x_train)\n",
    "predict_val = rf.predict(x_val)\n",
    "\n",
    "from sklearn.metrics import accuracy_score ,f1_score, confusion_matrix, classification_report\n",
    "print(\"\\n>>>train --------------------------------\")\n",
    "print(\"accuracy_score : \", accuracy_score(y_train, predict_train))\n",
    "# print(\"f1_score : \", f1_score(y_train, predict_train))\n",
    "\n",
    "print(\"\\n>>>test ---------------------------------\")\n",
    "print(\"accuracy_score : \", accuracy_score(y_val, predict_val))\n",
    "# print(\"f1_score : \", f1_score(y_val, predict_val))\n"
   ]
  },
  {
   "cell_type": "code",
   "execution_count": 115,
   "id": "75d7ddcf",
   "metadata": {},
   "outputs": [
    {
     "name": "stdout",
     "output_type": "stream",
     "text": [
      "Best Parameters:  {'max_depth': 14, 'min_samples_leaf': 4, 'n_estimators': 250}\n",
      "Best Score:  0.725510764193127\n",
      "TestSet Score:  0.7171428571428572\n"
     ]
    }
   ],
   "source": [
    "from sklearn.model_selection import GridSearchCV\n",
    "param_grid = {'n_estimators':[200,250,300],'max_depth' : [13,14,15], 'min_samples_leaf':[3,4,5]}\n",
    "clf = GridSearchCV(rf, param_grid, cv = 3)\n",
    "clf.fit(x_train, y_train)\n",
    "print('Best Parameters: ', clf.best_params_)\n",
    "print('Best Score: ', clf.best_score_)\n",
    "print('TestSet Score: ', clf.score(x_val, y_val))"
   ]
  },
  {
   "cell_type": "code",
   "execution_count": 116,
   "id": "5d582bbe",
   "metadata": {},
   "outputs": [
    {
     "name": "stdout",
     "output_type": "stream",
     "text": [
      "\n",
      ">>>train --------------------------------\n",
      "accuracy_score :  0.9146938775510204\n",
      "f1_score :  0.8853538123971476\n",
      "\n",
      ">>>test ---------------------------------\n",
      "accuracy_score :  0.7171428571428572\n",
      "f1_score :  0.6240506329113924\n"
     ]
    }
   ],
   "source": [
    "rf = RandomForestClassifier(random_state = 42, n_estimators = 250, \\\n",
    "                            max_depth = 14, min_samples_leaf= 4)\n",
    "rf.fit(x_train, y_train)\n",
    "predict_train = rf.predict(x_train)\n",
    "predict_val = rf.predict(x_val)\n",
    "\n",
    "print(\"\\n>>>train --------------------------------\")\n",
    "print(\"accuracy_score : \", accuracy_score(y_train, predict_train))\n",
    "print(\"f1_score : \", f1_score(y_train, predict_train))\n",
    "\n",
    "print(\"\\n>>>test ---------------------------------\")\n",
    "print(\"accuracy_score : \", accuracy_score(y_val, predict_val))\n",
    "print(\"f1_score : \", f1_score(y_val, predict_val))"
   ]
  },
  {
   "cell_type": "code",
   "execution_count": 118,
   "id": "59c7133f",
   "metadata": {
    "scrolled": true
   },
   "outputs": [
    {
     "data": {
      "text/html": [
       "<div>\n",
       "<style scoped>\n",
       "    .dataframe tbody tr th:only-of-type {\n",
       "        vertical-align: middle;\n",
       "    }\n",
       "\n",
       "    .dataframe tbody tr th {\n",
       "        vertical-align: top;\n",
       "    }\n",
       "\n",
       "    .dataframe thead th {\n",
       "        text-align: right;\n",
       "    }\n",
       "</style>\n",
       "<table border=\"1\" class=\"dataframe\">\n",
       "  <thead>\n",
       "    <tr style=\"text-align: right;\">\n",
       "      <th></th>\n",
       "      <th>ID</th>\n",
       "      <th>label</th>\n",
       "    </tr>\n",
       "  </thead>\n",
       "  <tbody>\n",
       "    <tr>\n",
       "      <th>0</th>\n",
       "      <td>TEST_0000</td>\n",
       "      <td>0</td>\n",
       "    </tr>\n",
       "    <tr>\n",
       "      <th>1</th>\n",
       "      <td>TEST_0001</td>\n",
       "      <td>0</td>\n",
       "    </tr>\n",
       "    <tr>\n",
       "      <th>2</th>\n",
       "      <td>TEST_0002</td>\n",
       "      <td>0</td>\n",
       "    </tr>\n",
       "    <tr>\n",
       "      <th>3</th>\n",
       "      <td>TEST_0003</td>\n",
       "      <td>1</td>\n",
       "    </tr>\n",
       "    <tr>\n",
       "      <th>4</th>\n",
       "      <td>TEST_0004</td>\n",
       "      <td>0</td>\n",
       "    </tr>\n",
       "  </tbody>\n",
       "</table>\n",
       "</div>"
      ],
      "text/plain": [
       "          ID  label\n",
       "0  TEST_0000      0\n",
       "1  TEST_0001      0\n",
       "2  TEST_0002      0\n",
       "3  TEST_0003      1\n",
       "4  TEST_0004      0"
      ]
     },
     "execution_count": 118,
     "metadata": {},
     "output_type": "execute_result"
    }
   ],
   "source": [
    "result = pd.DataFrame(rf.predict(df_test))\n",
    "result\n",
    "df_sample.label = result\n",
    "df_sample.to_csv('sample_submission.csv', index = False)\n",
    "check = pd.read_csv(\"sample_submission.csv\")\n",
    "check.head()"
   ]
  },
  {
   "cell_type": "code",
   "execution_count": null,
   "id": "36b391f7",
   "metadata": {},
   "outputs": [],
   "source": []
  }
 ],
 "metadata": {
  "kernelspec": {
   "display_name": "Python 3 (ipykernel)",
   "language": "python",
   "name": "python3"
  },
  "language_info": {
   "codemirror_mode": {
    "name": "ipython",
    "version": 3
   },
   "file_extension": ".py",
   "mimetype": "text/x-python",
   "name": "python",
   "nbconvert_exporter": "python",
   "pygments_lexer": "ipython3",
   "version": "3.11.4"
  }
 },
 "nbformat": 4,
 "nbformat_minor": 5
}
